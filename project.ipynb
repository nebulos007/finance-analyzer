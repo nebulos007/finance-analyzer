{
 "cells": [
  {
   "cell_type": "markdown",
   "id": "eee49bf0",
   "metadata": {},
   "source": [
    "## Task  1: Loading Transactions from a CSV File"
   ]
  },
  {
   "cell_type": "code",
   "execution_count": 12,
   "id": "39046994",
   "metadata": {},
   "outputs": [],
   "source": [
    "import csv\n",
    "from datetime import datetime"
   ]
  },
  {
   "cell_type": "code",
   "execution_count": 13,
   "id": "93d411cb",
   "metadata": {},
   "outputs": [
    {
     "name": "stdout",
     "output_type": "stream",
     "text": [
      "Error: time data '2020a-10-26' does not match format '%Y-%m-%d'. Please check the date format in the file.\n"
     ]
    },
    {
     "data": {
      "text/plain": [
       "[]"
      ]
     },
     "execution_count": 13,
     "metadata": {},
     "output_type": "execute_result"
    }
   ],
   "source": [
    "def load_transactions(filename='financial_transactions.csv'):\n",
    "    \"\"\"Load transactions from a CSV file into a list of dictionaries.\"\"\"\n",
    "    transactions = []\n",
    "    try:\n",
    "        # Open file with 'with' statement\n",
    "        with open((filename), 'r') as file:\n",
    "        # Use csv.DictReader\n",
    "            reader = csv.DictReader(file)\n",
    "        # For each row:\n",
    "            for row in reader:\n",
    "        #   Parse date with datetime.strptime\n",
    "                row['date'] = datetime.strptime(row['date'], '%Y-%m-%d').date()\n",
    "        #   Make amount negative for 'debit'\n",
    "                if row['type'] == 'debit':\n",
    "                    row['amount'] = -float(row['amount'])\n",
    "                else:\n",
    "                    row['amount'] = float(row['amount'])\n",
    "        #   Create dictionary with all fields\n",
    "                transaction = {\n",
    "                    'transaction_id': row['transaction_id'],\n",
    "                    'date': row['date'],\n",
    "                    'customer_id': row['customer_id'],\n",
    "                    'amount': row['amount'],\n",
    "                    'type': row['type'],\n",
    "                    'description': row['description'],\n",
    "                }\n",
    "        #   Add to transactions\n",
    "                transactions.append(transaction)\n",
    "    # Catch FileNotFoundError, ValueError\n",
    "    except FileNotFoundError:\n",
    "        print(f\"Error: The file {filename} was not found.\")\n",
    "    except ValueError as e:\n",
    "        print(f\"Error: {e}. Please check the date format in the file.\")\n",
    "    \n",
    "    return transactions\n",
    "\n",
    "load_transactions()\n",
    "    "
   ]
  },
  {
   "cell_type": "markdown",
   "id": "7ad3f4a6",
   "metadata": {},
   "source": [
    "### Additional tasks to be completed\n",
    "1. Print the number of loaded transactions.\n",
    "2. Skip rows with invalid amounts and print a warning.\n",
    "3. Test with a CSV containing one bad date and verify it’s skipped.\n",
    "4. Log errors to `errors.txt`."
   ]
  },
  {
   "cell_type": "code",
   "execution_count": 16,
   "id": "196ff49e",
   "metadata": {},
   "outputs": [
    {
     "name": "stdout",
     "output_type": "stream",
     "text": [
      "Warning, invalid date detected, skipping row.\n",
      "Warning, invalid amount detected, skipping row.\n",
      "7\n"
     ]
    }
   ],
   "source": [
    "# Print the number of loaded transactions\n",
    "print (len(load_transactions()))\n",
    "\n"
   ]
  },
  {
   "cell_type": "code",
   "execution_count": 15,
   "id": "7d985115",
   "metadata": {},
   "outputs": [
    {
     "name": "stdout",
     "output_type": "stream",
     "text": [
      "Warning, invalid date detected, skipping row.\n",
      "Warning, invalid amount detected, skipping row.\n"
     ]
    },
    {
     "data": {
      "text/plain": [
       "[{'transaction_id': '2',\n",
       "  'date': datetime.date(2020, 1, 8),\n",
       "  'customer_id': '466',\n",
       "  'amount': 1255.95,\n",
       "  'type': 'credit',\n",
       "  'description': 'Each left similar likely coach take.'},\n",
       " {'transaction_id': '4',\n",
       "  'date': datetime.date(2020, 12, 2),\n",
       "  'customer_id': '142',\n",
       "  'amount': 2927.41,\n",
       "  'type': 'credit',\n",
       "  'description': 'Agree reveal buy black already.'},\n",
       " {'transaction_id': '5',\n",
       "  'date': datetime.date(2020, 12, 2),\n",
       "  'customer_id': '944',\n",
       "  'amount': -4661.88,\n",
       "  'type': 'debit',\n",
       "  'description': 'Child relationship show college whom speech.'},\n",
       " {'transaction_id': '6',\n",
       "  'date': datetime.date(2021, 4, 25),\n",
       "  'customer_id': '900',\n",
       "  'amount': 3649.68,\n",
       "  'type': 'credit',\n",
       "  'description': 'Century front item.'},\n",
       " {'transaction_id': '7',\n",
       "  'date': datetime.date(2020, 6, 19),\n",
       "  'customer_id': '458',\n",
       "  'amount': 504.24,\n",
       "  'type': 'credit',\n",
       "  'description': 'Market cover loss hotel send.'},\n",
       " {'transaction_id': '8',\n",
       "  'date': datetime.date(2022, 9, 8),\n",
       "  'customer_id': '573',\n",
       "  'amount': 8088.01,\n",
       "  'type': 'credit',\n",
       "  'description': 'Trouble reason speak involve.'},\n",
       " {'transaction_id': '9',\n",
       "  'date': datetime.date(2022, 1, 30),\n",
       "  'customer_id': '950',\n",
       "  'amount': 3006.3,\n",
       "  'type': 'credit',\n",
       "  'description': 'Popular three war arm best.'}]"
      ]
     },
     "execution_count": 15,
     "metadata": {},
     "output_type": "execute_result"
    }
   ],
   "source": [
    "# Skip rows with invalid amounts and print a warning.\n",
    "def load_transactions(filename='financial_transactions.csv'):\n",
    "    \"\"\"Load transactions from a CSV file into a list of dictionaries.\"\"\"\n",
    "    transactions = []\n",
    "    try:\n",
    "        # Open file with 'with' statement\n",
    "        with open((filename), 'r') as file:\n",
    "        # Use csv.DictReader\n",
    "            reader = csv.DictReader(file)\n",
    "        # For each row:\n",
    "            for row in reader:\n",
    "        #   Parse date with datetime.strptime\n",
    "                # Skip rows with invalid dates\n",
    "                try:\n",
    "                    row['date'] = datetime.strptime(row['date'], '%Y-%m-%d').date()\n",
    "                except ValueError:\n",
    "                    print(\"Warning, invalid date detected, skipping row.\")\n",
    "                    # Log errors to errors.txt\n",
    "                    with open(\"errors.txt\", \"w\") as file:\n",
    "                        file.write(f\"Warning, invalid date detected in row: {row}\\n\")\n",
    "                    continue\n",
    "        #   Make amount negative for 'debit'\n",
    "                try:\n",
    "                    if row['type'] == 'debit':\n",
    "                        row['amount'] = -float(row['amount'])\n",
    "                    else:\n",
    "                        row['amount'] = float(row['amount'])\n",
    "                except ValueError:\n",
    "                    print(\"Warning, invalid amount detected, skipping row.\")\n",
    "                    # Log errors to errors.txt\n",
    "                    with open(\"errors.txt\", \"a\") as file:\n",
    "                        file.write(f\"Warning, invalid amount detected in row: {row}\\n\")\n",
    "                    continue\n",
    "        #   Create dictionary with all fields\n",
    "                transaction = {\n",
    "                    'transaction_id': row['transaction_id'],\n",
    "                    'date': row['date'],\n",
    "                    'customer_id': row['customer_id'],\n",
    "                    'amount': row['amount'],\n",
    "                    'type': row['type'],\n",
    "                    'description': row['description'],\n",
    "                }\n",
    "        #   Add to transactions\n",
    "                transactions.append(transaction)\n",
    "    # Catch FileNotFoundError, ValueError\n",
    "    except FileNotFoundError:\n",
    "        print(f\"Error: The file {filename} was not found.\")\n",
    "        # Log errors to errors.txt\n",
    "        with open(\"errors.txt\", \"a\") as file:\n",
    "            file.write(f\"Error: The file {filename} was not found.\")\n",
    "    except ValueError as e:\n",
    "        print(f\"Error: {e}. Please check the date format in the file.\")\n",
    "        # Log errors to errors.txt\n",
    "        with open(\"errors.txt\", \"a\") as file:\n",
    "            file.write(f\"Error: {e}. Please check the date format in the file.\")\n",
    "    return transactions\n",
    "\n",
    "load_transactions()"
   ]
  },
  {
   "cell_type": "markdown",
   "id": "be5240c1",
   "metadata": {},
   "source": [
    "## Task 2: Adding and Viewing Transactions"
   ]
  },
  {
   "cell_type": "markdown",
   "id": "48d9bc70",
   "metadata": {},
   "source": [
    "### For adding:"
   ]
  },
  {
   "cell_type": "code",
   "execution_count": null,
   "id": "f0230d10",
   "metadata": {},
   "outputs": [],
   "source": [
    "def add_transaction(transactions):\n",
    "    \"\"\"Add a new transaction from user input.\"\"\"\n",
    "    # Prompt for date, customer_id, amount, type, description\n",
    "    \n",
    "    # Validate date\n",
    "    while True:\n",
    "        try:\n",
    "            date = datetime.strptime(input(\"Enter date (YYYY-MM-DD): \"), '%Y-%m-%d').date()\n",
    "            break\n",
    "        except ValueError:\n",
    "            print(\"Invalid date format. Please use YYYY-MM-DD.\")\n",
    "            continue\n",
    "    customer_id = input(\"Enter customer ID: \")\n",
    "    \n",
    "    # Validate amount\n",
    "    while True:\n",
    "        try:\n",
    "            amount = float(input(\"Enter amount: \"))\n",
    "            break\n",
    "        except ValueError:\n",
    "            print(\"Invalid amount. Please enter a number.\")\n",
    "            continue\n",
    "    # Validate type\n",
    "    while True:\n",
    "        type = input(\"Enter type (credit/debit/transfer): \").lower()\n",
    "        if type == 'debit':\n",
    "            amount = -abs(amount)  # Make amount negative for debit\n",
    "            break\n",
    "        elif type == 'credit':\n",
    "            amount = abs(amount)\n",
    "            break\n",
    "        elif type == 'transfer':\n",
    "            # For transfer, we can keep the amount positive\n",
    "            amount = abs(amount)\n",
    "            break\n",
    "        else:\n",
    "        # elif type not in ['credit', 'transfer']:\n",
    "            print(\"Invalid type. Please enter 'credit', 'debit', or 'transfer'.\")\n",
    "            continue\n",
    "    description = input(\"Enter description: \")\n",
    "  \n",
    "    # Generate new transaction_id\n",
    "    transaction_id = len(transactions) + 1  # ID generation based on current length\n",
    "    # Create dictionary and append\n",
    "    transaction = {\n",
    "        'transaction_id': transaction_id,\n",
    "        'date': date,\n",
    "        'customer_id': customer_id,\n",
    "        'amount': amount,\n",
    "        'type': type,\n",
    "        'description': description\n",
    "    }\n",
    "    transactions.append(transaction)\n",
    "    print(f\"Transaction {transaction_id} added successfully.\")\n",
    "    return transactions\n",
    "    pass\n",
    "\n",
    "add_transaction(load_transactions())"
   ]
  },
  {
   "cell_type": "markdown",
   "id": "c8e5acfa",
   "metadata": {},
   "source": [
    "### For viewing:"
   ]
  },
  {
   "cell_type": "code",
   "execution_count": null,
   "id": "47261112",
   "metadata": {},
   "outputs": [
    {
     "name": "stdout",
     "output_type": "stream",
     "text": [
      "Warning, invalid date detected, skipping row.\n",
      "Warning, invalid amount detected, skipping row.\n",
      "-----------------------------------------------------------------------------------\n",
      " ID       Date       Customer     Amount      Type             Description          \n",
      "-----------------------------------------------------------------------------------\n",
      "\n",
      "  2    2020-01-08      466      1,255.95     credit   Each left similar likely coach take.\n",
      "  4    2020-12-02      142      2,927.41     credit   Agree reveal buy black already.\n",
      "  5    2020-12-02      944      -4,661.88    debit    Child relationship show college whom speech.\n",
      "  6    2021-04-25      900      3,649.68     credit   Century front item.           \n",
      "  7    2020-06-19      458      504.24       credit   Market cover loss hotel send. \n",
      "  8    2022-09-08      573      8,088.01     credit   Trouble reason speak involve. \n",
      "  9    2022-01-30      950      3,006.30     credit   Popular three war arm best.   \n",
      "-----------------------------------------------------------------------------------\n"
     ]
    }
   ],
   "source": [
    "def view_transactions(transactions):\n",
    "    \"\"\"Display transactions in a table.\"\"\"\n",
    "    # Print header\n",
    "    header = f\"{'ID':^5} {'Date':^12} {'Customer':^12} {'Amount':^10} {'Type':^10} {'Description':^30}\"\n",
    "    print('-' * 83)  # Print a line of dashes\n",
    "    print(header)\n",
    "    print('-' * 83)  # Print a line of dashes\n",
    "    print()\n",
    "    # Loop through transactions\n",
    "    for t in transactions:\n",
    "                # Format amount with 2 decimal places and comma\n",
    "        amount_str = f\"{t['amount']:,.2f}\"\n",
    "        # Format each row\n",
    "        row = (f\"{str(t['transaction_id']):^5} \"    # Center ID\n",
    "               f\"{t['date']!s:^12} \"                # Center date\n",
    "               f\"{t['customer_id']:^12} \"           # Center customer ID\n",
    "               f\"{amount_str:<10} \"                 # Left justify amount\n",
    "               f\"{t['type']:^10} \"                  # Center type\n",
    "               f\"{t['description']:<30}\")           # Left justify description\n",
    "        # Print each row\n",
    "        print(row)\n",
    "    # Print footer\n",
    "    print('-' * 83)  # Print a line of dashes\n",
    "    pass\n",
    "\n",
    "view_transactions(load_transactions())"
   ]
  },
  {
   "cell_type": "markdown",
   "id": "f48b6edd",
   "metadata": {},
   "source": [
    "### Additional tasks to be completed\n",
    "1. Reject invalid transaction types in `add_transaction`.\n",
    "2. Add an option to `view_transactions` to filter by type.\n",
    "3. Suggest customer IDs from existing transactions.\n",
    "4. Format dates as “Oct 26, 2020” in `view_transactions`.\n"
   ]
  }
 ],
 "metadata": {
  "kernelspec": {
   "display_name": ".venv",
   "language": "python",
   "name": "python3"
  },
  "language_info": {
   "codemirror_mode": {
    "name": "ipython",
    "version": 3
   },
   "file_extension": ".py",
   "mimetype": "text/x-python",
   "name": "python",
   "nbconvert_exporter": "python",
   "pygments_lexer": "ipython3",
   "version": "3.13.2"
  }
 },
 "nbformat": 4,
 "nbformat_minor": 5
}
